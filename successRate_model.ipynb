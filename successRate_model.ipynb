{
 "cells": [
  {
   "cell_type": "code",
   "execution_count": 2,
   "metadata": {},
   "outputs": [],
   "source": [
    "import pandas as pd\n",
    "import numpy as np\n",
    "from sklearn.linear_model import LinearRegression\n",
    "from sklearn.model_selection import train_test_split\n"
   ]
  },
  {
   "cell_type": "code",
   "execution_count": 4,
   "metadata": {},
   "outputs": [
    {
     "name": "stdout",
     "output_type": "stream",
     "text": [
      "<class 'pandas.core.frame.DataFrame'>\n",
      "RangeIndex: 4803 entries, 0 to 4802\n",
      "Data columns (total 24 columns):\n",
      " #   Column                Non-Null Count  Dtype  \n",
      "---  ------                --------------  -----  \n",
      " 0   index                 4803 non-null   int64  \n",
      " 1   budget                4803 non-null   int64  \n",
      " 2   genres                4775 non-null   object \n",
      " 3   homepage              1712 non-null   object \n",
      " 4   id                    4803 non-null   int64  \n",
      " 5   keywords              4391 non-null   object \n",
      " 6   original_language     4803 non-null   object \n",
      " 7   original_title        4803 non-null   object \n",
      " 8   overview              4800 non-null   object \n",
      " 9   popularity            4803 non-null   float64\n",
      " 10  production_companies  4803 non-null   object \n",
      " 11  production_countries  4803 non-null   object \n",
      " 12  release_date          4802 non-null   object \n",
      " 13  revenue               4803 non-null   int64  \n",
      " 14  runtime               4801 non-null   float64\n",
      " 15  spoken_languages      4803 non-null   object \n",
      " 16  status                4803 non-null   object \n",
      " 17  tagline               3959 non-null   object \n",
      " 18  title                 4803 non-null   object \n",
      " 19  vote_average          4803 non-null   float64\n",
      " 20  vote_count            4803 non-null   int64  \n",
      " 21  cast                  4760 non-null   object \n",
      " 22  crew                  4803 non-null   object \n",
      " 23  director              4773 non-null   object \n",
      "dtypes: float64(3), int64(5), object(16)\n",
      "memory usage: 900.7+ KB\n"
     ]
    }
   ],
   "source": [
    "data = pd.read_csv('movie_dataset.csv')\n",
    "data\n",
    "data.info()"
   ]
  },
  {
   "cell_type": "code",
   "execution_count": null,
   "metadata": {},
   "outputs": [
    {
     "name": "stdout",
     "output_type": "stream",
     "text": [
      "<class 'pandas.core.frame.DataFrame'>\n",
      "RangeIndex: 839 entries, 0 to 838\n",
      "Data columns (total 33 columns):\n",
      " #   Column              Non-Null Count  Dtype  \n",
      "---  ------              --------------  -----  \n",
      " 0   Rank                838 non-null    float64\n",
      " 1   Title               838 non-null    object \n",
      " 2   Genre               838 non-null    object \n",
      " 3   Description         838 non-null    object \n",
      " 4   Director            838 non-null    object \n",
      " 5   Actors              838 non-null    object \n",
      " 6   Year                838 non-null    float64\n",
      " 7   Runtime (Minutes)   838 non-null    float64\n",
      " 8   Rating              839 non-null    float64\n",
      " 9   Votes               839 non-null    float64\n",
      " 10  Revenue (Millions)  839 non-null    float64\n",
      " 11  Metascore           838 non-null    float64\n",
      " 12  Action              838 non-null    float64\n",
      " 13  Adventure           838 non-null    float64\n",
      " 14  Aniimation          838 non-null    float64\n",
      " 15  Biography           838 non-null    float64\n",
      " 16  Comedy              838 non-null    float64\n",
      " 17  Crime               838 non-null    float64\n",
      " 18  Drama               838 non-null    float64\n",
      " 19  Family              838 non-null    float64\n",
      " 20  Fantasy             838 non-null    float64\n",
      " 21  History             838 non-null    float64\n",
      " 22  Horror              838 non-null    float64\n",
      " 23  Music               838 non-null    float64\n",
      " 24  Musical             838 non-null    float64\n",
      " 25  Mystery             838 non-null    float64\n",
      " 26  Romance             838 non-null    float64\n",
      " 27  Sci-Fi              838 non-null    float64\n",
      " 28  Sport               838 non-null    float64\n",
      " 29  Thriller            838 non-null    float64\n",
      " 30  War                 838 non-null    float64\n",
      " 31  Western             838 non-null    float64\n",
      " 32  Success             838 non-null    float64\n",
      "dtypes: float64(28), object(5)\n",
      "memory usage: 216.4+ KB\n"
     ]
    }
   ],
   "source": [
    "data = pd.read_csv('movie_success_rate.csv')\n",
    "data\n",
    "# data.info()"
   ]
  }
 ],
 "metadata": {
  "kernelspec": {
   "display_name": ".venv",
   "language": "python",
   "name": "python3"
  },
  "language_info": {
   "codemirror_mode": {
    "name": "ipython",
    "version": 3
   },
   "file_extension": ".py",
   "mimetype": "text/x-python",
   "name": "python",
   "nbconvert_exporter": "python",
   "pygments_lexer": "ipython3",
   "version": "3.12.4"
  }
 },
 "nbformat": 4,
 "nbformat_minor": 2
}
